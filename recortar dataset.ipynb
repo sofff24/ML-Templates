{
 "cells": [
  {
   "cell_type": "code",
   "execution_count": 1,
   "metadata": {},
   "outputs": [
    {
     "name": "stderr",
     "output_type": "stream",
     "text": [
      "C:\\Users\\sofia.martinez_bluet\\AppData\\Local\\Temp\\ipykernel_25420\\2870621199.py:25: DtypeWarning: Columns (47,73) have mixed types. Specify dtype option on import or set low_memory=False.\n",
      "  data = pd.read_csv(csv_path)\n"
     ]
    },
    {
     "name": "stdout",
     "output_type": "stream",
     "text": [
      "   Cst_Cnt  Btl_Cnt       Sta_ID                                Depth_ID  \\\n",
      "0        1        1  054.0 056.0  19-4903CR-HY-060-0930-05400560-0000A-3   \n",
      "1        1        2  054.0 056.0  19-4903CR-HY-060-0930-05400560-0008A-3   \n",
      "2        1        3  054.0 056.0  19-4903CR-HY-060-0930-05400560-0010A-7   \n",
      "3        1        4  054.0 056.0  19-4903CR-HY-060-0930-05400560-0019A-3   \n",
      "4        1        5  054.0 056.0  19-4903CR-HY-060-0930-05400560-0020A-7   \n",
      "\n",
      "   Depthm  T_degC  Salnty  O2ml_L  STheta  O2Sat  ...  R_PHAEO  R_PRES  \\\n",
      "0       0   10.50  33.440     NaN  25.649    NaN  ...      NaN       0   \n",
      "1       8   10.46  33.440     NaN  25.656    NaN  ...      NaN       8   \n",
      "2      10   10.46  33.437     NaN  25.654    NaN  ...      NaN      10   \n",
      "3      19   10.45  33.420     NaN  25.643    NaN  ...      NaN      19   \n",
      "4      20   10.45  33.421     NaN  25.643    NaN  ...      NaN      20   \n",
      "\n",
      "   R_SAMP  DIC1  DIC2  TA1  TA2  pH2  pH1  DIC Quality Comment  \n",
      "0     NaN   NaN   NaN  NaN  NaN  NaN  NaN                  NaN  \n",
      "1     NaN   NaN   NaN  NaN  NaN  NaN  NaN                  NaN  \n",
      "2     NaN   NaN   NaN  NaN  NaN  NaN  NaN                  NaN  \n",
      "3     NaN   NaN   NaN  NaN  NaN  NaN  NaN                  NaN  \n",
      "4     NaN   NaN   NaN  NaN  NaN  NaN  NaN                  NaN  \n",
      "\n",
      "[5 rows x 74 columns]\n"
     ]
    }
   ],
   "source": [
    "import numpy as np # linear algebra\n",
    "import pandas as pd # data processing, CSV file I/O (e.g. pd.read_csv)\n",
    "import matplotlib.pyplot as plt\n",
    "import seaborn as sns\n",
    "from sklearn.model_selection import train_test_split, cross_val_score, cross_val_predict\n",
    "import operator\n",
    "\n",
    "## I HAVEF TO WORK ON THIS\n",
    "# Input data files are available in the \"../input/\" directory.\n",
    "# For example, running this (by clicking run or pressing Shift+Enter) will list all files under the input directory\n",
    "\n",
    "import os\n",
    "for dirname, _, filenames in os.walk('/kaggle/input'):\n",
    "    for filename in filenames:\n",
    "        print(os.path.join(dirname, filename))\n",
    "\n",
    "# Any results you write to the current directory are saved as output.\n",
    "\n",
    "## Data\n",
    "csv_path = r\"C:\\Users\\sofia.martinez_bluet\\Downloads\\bottle.csv\"\n",
    "\n",
    "# Verificar si el archivo existe en la ruta especificada\n",
    "if os.path.exists(csv_path):\n",
    "    # Leer el archivo CSV\n",
    "    data = pd.read_csv(csv_path)\n",
    "    # Mostrar las primeras filas del DataFrame para verificar\n",
    "    print(data.head())\n",
    "else:\n",
    "    print(f\"El archivo {csv_path} no se encuentra en la ruta especificada.\")\n",
    "\n"
   ]
  },
  {
   "cell_type": "code",
   "execution_count": 2,
   "metadata": {},
   "outputs": [],
   "source": [
    "# SELECT THE AMOUNT YOU DESIRE\n",
    "data = data[:][:500]      "
   ]
  },
  {
   "cell_type": "code",
   "execution_count": 4,
   "metadata": {},
   "outputs": [
    {
     "name": "stdout",
     "output_type": "stream",
     "text": [
      "\n",
      "Se ha guardado el nuevo DataFrame en 'subset_bottle.csv'.\n"
     ]
    }
   ],
   "source": [
    "## SAVE THE NEW DATAFRAME\n",
    "\n",
    "\n",
    "# Guardar el nuevo DataFrame en un archivo CSV\n",
    "output_csv_filename = \"subset_bottle.csv\"\n",
    "data.to_csv(output_csv_filename, index=False)\n",
    "\n",
    "print(f\"\\nSe ha guardado el nuevo DataFrame en '{output_csv_filename}'.\")"
   ]
  }
 ],
 "metadata": {
  "kernelspec": {
   "display_name": "base",
   "language": "python",
   "name": "python3"
  },
  "language_info": {
   "codemirror_mode": {
    "name": "ipython",
    "version": 3
   },
   "file_extension": ".py",
   "mimetype": "text/x-python",
   "name": "python",
   "nbconvert_exporter": "python",
   "pygments_lexer": "ipython3",
   "version": "3.10.9"
  }
 },
 "nbformat": 4,
 "nbformat_minor": 2
}
