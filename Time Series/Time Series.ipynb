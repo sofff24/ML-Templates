{
 "cells": [
  {
   "cell_type": "code",
   "execution_count": null,
   "metadata": {},
   "outputs": [],
   "source": [
    "import pandas as pd # data processing, CSV file I/O (e.g. pd.read_csv)\n",
    "import os"
   ]
  },
  {
   "cell_type": "markdown",
   "metadata": {},
   "source": [
    "## DATA"
   ]
  },
  {
   "cell_type": "code",
   "execution_count": null,
   "metadata": {},
   "outputs": [],
   "source": [
    "def read_csv_files(folder_path, file_names):\n",
    "    dataframes = {}\n",
    "    for file_name in file_names:\n",
    "        # Construir la ruta completa del archivo\n",
    "        csv_path = os.path.join(folder_path, file_name)\n",
    "        \n",
    "        # Verificar si el archivo existe en la ruta especificada\n",
    "        if os.path.exists(csv_path):\n",
    "            # Leer el archivo CSV\n",
    "            df = pd.read_csv(csv_path)            \n",
    "            # Añadir el DataFrame al diccionario\n",
    "            dataframes[file_name] = df\n",
    "            \n",
    "            # Mostrar las primeras filas del DataFrame para verificar\n",
    "            print(f\"DataFrame de {file_name}:\")\n",
    "            \n",
    "        else:\n",
    "            print(f\"El archivo {csv_path} no se encuentra en la ruta especificada.\")\n",
    "    \n",
    "    return dataframes\n",
    "\n",
    "\n",
    "folder_path = r\"C:\\Users\\Sofia\\Documentos\\IMPORTANTES\\Estudio\\ML-Templates\\Classification\\Binary_Classification\"\n",
    "file_names = [\"gender_submission.csv\",\"test.csv\"]\n",
    "dataframes = read_csv_files(folder_path, file_names)\n",
    "\n",
    "\n",
    "test = dataframes[\"test.csv\"]\n",
    "test"
   ]
  }
 ],
 "metadata": {
  "language_info": {
   "name": "python"
  }
 },
 "nbformat": 4,
 "nbformat_minor": 2
}
