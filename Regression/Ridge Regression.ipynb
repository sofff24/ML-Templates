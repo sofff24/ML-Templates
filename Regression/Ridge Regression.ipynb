{
 "cells": [
  {
   "cell_type": "code",
   "execution_count": 1,
   "metadata": {},
   "outputs": [],
   "source": [
    "import numpy as np # linear algebra\n",
    "import pandas as pd # data processing, CSV file I/O (e.g. pd.read_csv)\n",
    "import matplotlib.pyplot as plt\n",
    "import seaborn as sns\n",
    "from sklearn.model_selection import train_test_split, cross_val_score, cross_val_predict\n",
    "import operator\n",
    "\n",
    "## I HAVEF TO WORK ON THIS\n",
    "# Input data files are available in the \"../input/\" directory.\n",
    "# For example, running this (by clicking run or pressing Shift+Enter) will list all files under the input directory\n",
    "\n",
    "import os\n",
    "for dirname, _, filenames in os.walk('/kaggle/input'):\n",
    "    for filename in filenames:\n",
    "        print(os.path.join(dirname, filename))\n",
    "\n",
    "# Any results you write to the current directory are saved as output.\n"
   ]
  },
  {
   "cell_type": "markdown",
   "metadata": {},
   "source": [
    "## Data"
   ]
  },
  {
   "cell_type": "code",
   "execution_count": 2,
   "metadata": {},
   "outputs": [
    {
     "name": "stdout",
     "output_type": "stream",
     "text": [
      "   Cst_Cnt  Btl_Cnt       Sta_ID                                Depth_ID  \\\n",
      "0        1        1  054.0 056.0  19-4903CR-HY-060-0930-05400560-0000A-3   \n",
      "1        1        2  054.0 056.0  19-4903CR-HY-060-0930-05400560-0008A-3   \n",
      "2        1        3  054.0 056.0  19-4903CR-HY-060-0930-05400560-0010A-7   \n",
      "3        1        4  054.0 056.0  19-4903CR-HY-060-0930-05400560-0019A-3   \n",
      "4        1        5  054.0 056.0  19-4903CR-HY-060-0930-05400560-0020A-7   \n",
      "\n",
      "   Depthm  T_degC  Salnty  O2ml_L  STheta  O2Sat  ...  R_PHAEO  R_PRES  \\\n",
      "0       0   10.50  33.440     NaN  25.649    NaN  ...      NaN       0   \n",
      "1       8   10.46  33.440     NaN  25.656    NaN  ...      NaN       8   \n",
      "2      10   10.46  33.437     NaN  25.654    NaN  ...      NaN      10   \n",
      "3      19   10.45  33.420     NaN  25.643    NaN  ...      NaN      19   \n",
      "4      20   10.45  33.421     NaN  25.643    NaN  ...      NaN      20   \n",
      "\n",
      "   R_SAMP  DIC1  DIC2  TA1  TA2  pH2  pH1  DIC Quality Comment  \n",
      "0     NaN   NaN   NaN  NaN  NaN  NaN  NaN                  NaN  \n",
      "1     NaN   NaN   NaN  NaN  NaN  NaN  NaN                  NaN  \n",
      "2     NaN   NaN   NaN  NaN  NaN  NaN  NaN                  NaN  \n",
      "3     NaN   NaN   NaN  NaN  NaN  NaN  NaN                  NaN  \n",
      "4     NaN   NaN   NaN  NaN  NaN  NaN  NaN                  NaN  \n",
      "\n",
      "[5 rows x 74 columns]\n"
     ]
    }
   ],
   "source": [
    "csv_path = r\"C:\\Users\\sofia.martinez_bluet\\Downloads\\bottle.csv\"\n",
    "\n",
    "# Verificar si el archivo existe en la ruta especificada\n",
    "if os.path.exists(csv_path):\n",
    "    # Leer el archivo CSV\n",
    "    data = pd.read_csv(csv_path)\n",
    "    # Mostrar las primeras filas del DataFrame para verificar\n",
    "    print(data.head())\n",
    "else:\n",
    "    print(f\"El archivo {csv_path} no se encuentra en la ruta especificada.\")"
   ]
  },
  {
   "cell_type": "code",
   "execution_count": 3,
   "metadata": {},
   "outputs": [
    {
     "data": {
      "text/html": [
       "<div>\n",
       "<style scoped>\n",
       "    .dataframe tbody tr th:only-of-type {\n",
       "        vertical-align: middle;\n",
       "    }\n",
       "\n",
       "    .dataframe tbody tr th {\n",
       "        vertical-align: top;\n",
       "    }\n",
       "\n",
       "    .dataframe thead th {\n",
       "        text-align: right;\n",
       "    }\n",
       "</style>\n",
       "<table border=\"1\" class=\"dataframe\">\n",
       "  <thead>\n",
       "    <tr style=\"text-align: right;\">\n",
       "      <th></th>\n",
       "      <th>Cst_Cnt</th>\n",
       "      <th>Btl_Cnt</th>\n",
       "      <th>Depthm</th>\n",
       "      <th>T_degC</th>\n",
       "      <th>Salnty</th>\n",
       "      <th>O2ml_L</th>\n",
       "      <th>STheta</th>\n",
       "      <th>O2Sat</th>\n",
       "      <th>Oxy_µmol/Kg</th>\n",
       "      <th>BtlNum</th>\n",
       "      <th>...</th>\n",
       "      <th>R_PHAEO</th>\n",
       "      <th>R_PRES</th>\n",
       "      <th>R_SAMP</th>\n",
       "      <th>DIC1</th>\n",
       "      <th>DIC2</th>\n",
       "      <th>TA1</th>\n",
       "      <th>TA2</th>\n",
       "      <th>pH2</th>\n",
       "      <th>pH1</th>\n",
       "      <th>DIC Quality Comment</th>\n",
       "    </tr>\n",
       "  </thead>\n",
       "  <tbody>\n",
       "    <tr>\n",
       "      <th>count</th>\n",
       "      <td>500.000000</td>\n",
       "      <td>500.000000</td>\n",
       "      <td>500.000000</td>\n",
       "      <td>499.000000</td>\n",
       "      <td>494.000000</td>\n",
       "      <td>0.0</td>\n",
       "      <td>493.000000</td>\n",
       "      <td>0.0</td>\n",
       "      <td>0.0</td>\n",
       "      <td>0.0</td>\n",
       "      <td>...</td>\n",
       "      <td>0.0</td>\n",
       "      <td>500.000000</td>\n",
       "      <td>0.0</td>\n",
       "      <td>0.0</td>\n",
       "      <td>0.0</td>\n",
       "      <td>0.0</td>\n",
       "      <td>0.0</td>\n",
       "      <td>0.0</td>\n",
       "      <td>0.0</td>\n",
       "      <td>0.0</td>\n",
       "    </tr>\n",
       "    <tr>\n",
       "      <th>mean</th>\n",
       "      <td>8.548000</td>\n",
       "      <td>250.500000</td>\n",
       "      <td>341.490000</td>\n",
       "      <td>7.850421</td>\n",
       "      <td>33.628842</td>\n",
       "      <td>NaN</td>\n",
       "      <td>26.183400</td>\n",
       "      <td>NaN</td>\n",
       "      <td>NaN</td>\n",
       "      <td>NaN</td>\n",
       "      <td>...</td>\n",
       "      <td>NaN</td>\n",
       "      <td>344.114000</td>\n",
       "      <td>NaN</td>\n",
       "      <td>NaN</td>\n",
       "      <td>NaN</td>\n",
       "      <td>NaN</td>\n",
       "      <td>NaN</td>\n",
       "      <td>NaN</td>\n",
       "      <td>NaN</td>\n",
       "      <td>NaN</td>\n",
       "    </tr>\n",
       "    <tr>\n",
       "      <th>std</th>\n",
       "      <td>4.570062</td>\n",
       "      <td>144.481833</td>\n",
       "      <td>355.166886</td>\n",
       "      <td>2.911584</td>\n",
       "      <td>0.560411</td>\n",
       "      <td>NaN</td>\n",
       "      <td>0.846325</td>\n",
       "      <td>NaN</td>\n",
       "      <td>NaN</td>\n",
       "      <td>NaN</td>\n",
       "      <td>...</td>\n",
       "      <td>NaN</td>\n",
       "      <td>358.371094</td>\n",
       "      <td>NaN</td>\n",
       "      <td>NaN</td>\n",
       "      <td>NaN</td>\n",
       "      <td>NaN</td>\n",
       "      <td>NaN</td>\n",
       "      <td>NaN</td>\n",
       "      <td>NaN</td>\n",
       "      <td>NaN</td>\n",
       "    </tr>\n",
       "    <tr>\n",
       "      <th>min</th>\n",
       "      <td>1.000000</td>\n",
       "      <td>1.000000</td>\n",
       "      <td>0.000000</td>\n",
       "      <td>2.780000</td>\n",
       "      <td>32.630000</td>\n",
       "      <td>NaN</td>\n",
       "      <td>24.870000</td>\n",
       "      <td>NaN</td>\n",
       "      <td>NaN</td>\n",
       "      <td>NaN</td>\n",
       "      <td>...</td>\n",
       "      <td>NaN</td>\n",
       "      <td>0.000000</td>\n",
       "      <td>NaN</td>\n",
       "      <td>NaN</td>\n",
       "      <td>NaN</td>\n",
       "      <td>NaN</td>\n",
       "      <td>NaN</td>\n",
       "      <td>NaN</td>\n",
       "      <td>NaN</td>\n",
       "      <td>NaN</td>\n",
       "    </tr>\n",
       "    <tr>\n",
       "      <th>25%</th>\n",
       "      <td>5.000000</td>\n",
       "      <td>125.750000</td>\n",
       "      <td>55.000000</td>\n",
       "      <td>5.030000</td>\n",
       "      <td>33.071000</td>\n",
       "      <td>NaN</td>\n",
       "      <td>25.259000</td>\n",
       "      <td>NaN</td>\n",
       "      <td>NaN</td>\n",
       "      <td>NaN</td>\n",
       "      <td>...</td>\n",
       "      <td>NaN</td>\n",
       "      <td>55.000000</td>\n",
       "      <td>NaN</td>\n",
       "      <td>NaN</td>\n",
       "      <td>NaN</td>\n",
       "      <td>NaN</td>\n",
       "      <td>NaN</td>\n",
       "      <td>NaN</td>\n",
       "      <td>NaN</td>\n",
       "      <td>NaN</td>\n",
       "    </tr>\n",
       "    <tr>\n",
       "      <th>50%</th>\n",
       "      <td>9.000000</td>\n",
       "      <td>250.500000</td>\n",
       "      <td>200.000000</td>\n",
       "      <td>8.180000</td>\n",
       "      <td>33.799500</td>\n",
       "      <td>NaN</td>\n",
       "      <td>26.339000</td>\n",
       "      <td>NaN</td>\n",
       "      <td>NaN</td>\n",
       "      <td>NaN</td>\n",
       "      <td>...</td>\n",
       "      <td>NaN</td>\n",
       "      <td>201.000000</td>\n",
       "      <td>NaN</td>\n",
       "      <td>NaN</td>\n",
       "      <td>NaN</td>\n",
       "      <td>NaN</td>\n",
       "      <td>NaN</td>\n",
       "      <td>NaN</td>\n",
       "      <td>NaN</td>\n",
       "      <td>NaN</td>\n",
       "    </tr>\n",
       "    <tr>\n",
       "      <th>75%</th>\n",
       "      <td>12.250000</td>\n",
       "      <td>375.250000</td>\n",
       "      <td>598.500000</td>\n",
       "      <td>10.450000</td>\n",
       "      <td>34.130000</td>\n",
       "      <td>NaN</td>\n",
       "      <td>26.983000</td>\n",
       "      <td>NaN</td>\n",
       "      <td>NaN</td>\n",
       "      <td>NaN</td>\n",
       "      <td>...</td>\n",
       "      <td>NaN</td>\n",
       "      <td>603.250000</td>\n",
       "      <td>NaN</td>\n",
       "      <td>NaN</td>\n",
       "      <td>NaN</td>\n",
       "      <td>NaN</td>\n",
       "      <td>NaN</td>\n",
       "      <td>NaN</td>\n",
       "      <td>NaN</td>\n",
       "      <td>NaN</td>\n",
       "    </tr>\n",
       "    <tr>\n",
       "      <th>max</th>\n",
       "      <td>16.000000</td>\n",
       "      <td>500.000000</td>\n",
       "      <td>1352.000000</td>\n",
       "      <td>12.660000</td>\n",
       "      <td>34.450000</td>\n",
       "      <td>NaN</td>\n",
       "      <td>27.450000</td>\n",
       "      <td>NaN</td>\n",
       "      <td>NaN</td>\n",
       "      <td>NaN</td>\n",
       "      <td>...</td>\n",
       "      <td>NaN</td>\n",
       "      <td>1365.000000</td>\n",
       "      <td>NaN</td>\n",
       "      <td>NaN</td>\n",
       "      <td>NaN</td>\n",
       "      <td>NaN</td>\n",
       "      <td>NaN</td>\n",
       "      <td>NaN</td>\n",
       "      <td>NaN</td>\n",
       "      <td>NaN</td>\n",
       "    </tr>\n",
       "  </tbody>\n",
       "</table>\n",
       "<p>8 rows × 72 columns</p>\n",
       "</div>"
      ],
      "text/plain": [
       "          Cst_Cnt     Btl_Cnt       Depthm      T_degC      Salnty  O2ml_L  \\\n",
       "count  500.000000  500.000000   500.000000  499.000000  494.000000     0.0   \n",
       "mean     8.548000  250.500000   341.490000    7.850421   33.628842     NaN   \n",
       "std      4.570062  144.481833   355.166886    2.911584    0.560411     NaN   \n",
       "min      1.000000    1.000000     0.000000    2.780000   32.630000     NaN   \n",
       "25%      5.000000  125.750000    55.000000    5.030000   33.071000     NaN   \n",
       "50%      9.000000  250.500000   200.000000    8.180000   33.799500     NaN   \n",
       "75%     12.250000  375.250000   598.500000   10.450000   34.130000     NaN   \n",
       "max     16.000000  500.000000  1352.000000   12.660000   34.450000     NaN   \n",
       "\n",
       "           STheta  O2Sat  Oxy_µmol/Kg  BtlNum  ...  R_PHAEO       R_PRES  \\\n",
       "count  493.000000    0.0          0.0     0.0  ...      0.0   500.000000   \n",
       "mean    26.183400    NaN          NaN     NaN  ...      NaN   344.114000   \n",
       "std      0.846325    NaN          NaN     NaN  ...      NaN   358.371094   \n",
       "min     24.870000    NaN          NaN     NaN  ...      NaN     0.000000   \n",
       "25%     25.259000    NaN          NaN     NaN  ...      NaN    55.000000   \n",
       "50%     26.339000    NaN          NaN     NaN  ...      NaN   201.000000   \n",
       "75%     26.983000    NaN          NaN     NaN  ...      NaN   603.250000   \n",
       "max     27.450000    NaN          NaN     NaN  ...      NaN  1365.000000   \n",
       "\n",
       "       R_SAMP  DIC1  DIC2  TA1  TA2  pH2  pH1  DIC Quality Comment  \n",
       "count     0.0   0.0   0.0  0.0  0.0  0.0  0.0                  0.0  \n",
       "mean      NaN   NaN   NaN  NaN  NaN  NaN  NaN                  NaN  \n",
       "std       NaN   NaN   NaN  NaN  NaN  NaN  NaN                  NaN  \n",
       "min       NaN   NaN   NaN  NaN  NaN  NaN  NaN                  NaN  \n",
       "25%       NaN   NaN   NaN  NaN  NaN  NaN  NaN                  NaN  \n",
       "50%       NaN   NaN   NaN  NaN  NaN  NaN  NaN                  NaN  \n",
       "75%       NaN   NaN   NaN  NaN  NaN  NaN  NaN                  NaN  \n",
       "max       NaN   NaN   NaN  NaN  NaN  NaN  NaN                  NaN  \n",
       "\n",
       "[8 rows x 72 columns]"
      ]
     },
     "execution_count": 3,
     "metadata": {},
     "output_type": "execute_result"
    }
   ],
   "source": [
    "data.describe()"
   ]
  },
  {
   "cell_type": "code",
   "execution_count": 4,
   "metadata": {},
   "outputs": [],
   "source": [
    "# Extract 2 columns 'T_degC','Salnty' for pure and better showing\n",
    "data_df = data[['T_degC','Salnty']]\n",
    "# And called again\n",
    "data_df.columns = ['Temperature', 'Salinity']"
   ]
  },
  {
   "cell_type": "markdown",
   "metadata": {},
   "source": [
    "### Preprocessing"
   ]
  },
  {
   "cell_type": "code",
   "execution_count": 5,
   "metadata": {},
   "outputs": [
    {
     "data": {
      "text/plain": [
       "Temperature    1\n",
       "Salinity       6\n",
       "dtype: int64"
      ]
     },
     "execution_count": 5,
     "metadata": {},
     "output_type": "execute_result"
    }
   ],
   "source": [
    "# see how many null values we have\n",
    "data_df.isnull().sum()"
   ]
  },
  {
   "cell_type": "code",
   "execution_count": 6,
   "metadata": {},
   "outputs": [
    {
     "name": "stderr",
     "output_type": "stream",
     "text": [
      "C:\\Users\\sofia.martinez_bluet\\AppData\\Local\\Temp\\ipykernel_21780\\1634871350.py:3: SettingWithCopyWarning: \n",
      "A value is trying to be set on a copy of a slice from a DataFrame\n",
      "\n",
      "See the caveats in the documentation: https://pandas.pydata.org/pandas-docs/stable/user_guide/indexing.html#returning-a-view-versus-a-copy\n",
      "  data_df.fillna(method='ffill', inplace=True)\n"
     ]
    }
   ],
   "source": [
    "\n",
    "# Drop NaN or missing input numbers\n",
    "\n",
    "data_df.fillna(method='ffill', inplace=True)\n",
    "#data_df.isnull().sum()\n",
    "# Features chose\n",
    "\n",
    "X = np.array(data_df['Salinity']).reshape(-1, 1)\n",
    "y = np.array(data_df['Temperature']).reshape(-1, 1)\n",
    "# Split data as %20 is test and %80 is train set\n",
    "\n",
    "X_train, X_test, y_train, y_test = train_test_split(X, y, test_size = 0.20, random_state = 42)"
   ]
  },
  {
   "cell_type": "markdown",
   "metadata": {},
   "source": [
    "## Ridge Regression"
   ]
  },
  {
   "cell_type": "markdown",
   "metadata": {},
   "source": [
    "### Hyperparametes"
   ]
  },
  {
   "cell_type": "code",
   "execution_count": 8,
   "metadata": {},
   "outputs": [
    {
     "name": "stdout",
     "output_type": "stream",
     "text": [
      "Fitting 5 folds for each of 4 candidates, totalling 20 fits\n"
     ]
    }
   ],
   "source": [
    "from sklearn.linear_model import Ridge\n",
    "from sklearn.model_selection import GridSearchCV\n",
    "\n",
    "\n",
    "# Definir el modelo de regresión de Ridge\n",
    "ridge_reg = Ridge()\n",
    "\n",
    "# Definir la cuadrícula de hiperparámetros a buscar\n",
    "param_grid_ridge = {'alpha': [0.1, 1, 10, 100]}\n",
    "\n",
    "# Inicializar GridSearchCV para la regresión de Ridge\n",
    "grid_search_ridge = GridSearchCV(estimator=ridge_reg, \n",
    "                                param_grid=param_grid_ridge, \n",
    "                                cv=5, \n",
    "                                scoring='neg_mean_squared_error', \n",
    "                                verbose=1, \n",
    "                                n_jobs=-1)\n",
    "\n",
    "# Ajustar GridSearchCV a los datos de entrenamiento\n",
    "grid_search_ridge.fit(X_train, y_train)\n",
    "\n",
    "# Obtener el mejor modelo encontrado para la regresión de Ridge\n",
    "best_ridge_reg = grid_search_ridge.best_estimator_\n",
    "\n",
    "# Realizar predicciones con el mejor modelo\n",
    "y_pred = best_ridge_reg.predict(X_test)\n"
   ]
  },
  {
   "cell_type": "markdown",
   "metadata": {},
   "source": [
    "## Visualizations"
   ]
  },
  {
   "cell_type": "markdown",
   "metadata": {},
   "source": [
    "### Actual vs Predicted\n",
    "\n",
    "From scatter plots of Actual vs Predicted You can tell how well the model is performing. For Ideal model, the points should be closer to a diagonal line."
   ]
  },
  {
   "cell_type": "code",
   "execution_count": 10,
   "metadata": {},
   "outputs": [
    {
     "data": {
      "image/png": "[encoded data removed]",
      "text/plain": [
       "<Figure size 1000x600 with 1 Axes>"
      ]
     },
     "metadata": {},
     "output_type": "display_data"
    }
   ],
   "source": [
    "import matplotlib.pyplot as plt\n",
    "import seaborn as sns\n",
    "\n",
    "##### VISUALIZATION #####\n",
    "sns.set_style('darkgrid')  # Estilo más atractivo\n",
    "\n",
    "# Crear la figura y los ejes\n",
    "fig, ax = plt.subplots(figsize=(10, 6))\n",
    "\n",
    "# Dibujar la dispersión de los datos de prueba\n",
    "scatter = ax.scatter(X_test, y_test, color='red', label='Test Dataset', alpha=0.6)\n",
    "\n",
    "# Dibujar la línea de predicción del modelo\n",
    "line = ax.plot(X_test, y_pred, color='black', label='Model Prediction', linewidth=2)\n",
    "\n",
    "# Añadir títulos y etiquetas\n",
    "ax.set_title('Lineal Regression over Test Dataset', fontsize=16)\n",
    "ax.set_xlabel('Independent Variable', fontsize=14)\n",
    "ax.set_ylabel('Dependent Variable', fontsize=14)\n",
    "\n",
    "# Añadir una leyenda\n",
    "ax.legend()\n",
    "\n",
    "# Mostrar la figura\n",
    "plt.show()\n"
   ]
  },
  {
   "cell_type": "markdown",
   "metadata": {},
   "source": [
    "### Histogram of residual\n",
    "One of the assumption in Linear regression is that the residual should be normally distributed, if your model’s residual is not normally distributed it will not have a bell shaped curve which indicates that your model is not bias and in this case for your dateset regression may not be an appropriate choice."
   ]
  },
  {
   "cell_type": "markdown",
   "metadata": {},
   "source": [
    "### Residual vs. Fitted Values Plot\n",
    "\n",
    "In this scatter plot the y axis represents residuals and the x axis represented fitted values or predicted value. This plot is used to detect non-linearity, unequal error variances, and outliers in the model.\n",
    "\n",
    "For Ideal model, this plot is not supposed to show any pattern. But if any pattern is visible such as curve, U shape then it indicates that there is non-linearity in the data set. (heteroskedasticity)"
   ]
  },
  {
   "cell_type": "markdown",
   "metadata": {},
   "source": [
    "### Normality Q-Q Plot\n",
    "This plot is used to determine the normal distribution of errors.\n",
    "For normally distributed data, observations should lie approximately on a straight line. If the data is non-normal, the points form a curve deviating from a straight line which is a problematic situation."
   ]
  },
  {
   "cell_type": "markdown",
   "metadata": {},
   "source": [
    "## Measures"
   ]
  },
  {
   "cell_type": "code",
   "execution_count": 12,
   "metadata": {},
   "outputs": [
    {
     "name": "stdout",
     "output_type": "stream",
     "text": [
      "╒═══════════════════════════════════╤══════════╕\n",
      "│ Metric                            │    Value │\n",
      "╞═══════════════════════════════════╪══════════╡\n",
      "│ Mean Absolute Error (MAE)         │ 0.953183 │\n",
      "├───────────────────────────────────┼──────────┤\n",
      "│ Mean Squared Error (MSE)          │ 1.42043  │\n",
      "├───────────────────────────────────┼──────────┤\n",
      "│ Root Mean Squared Error (RMSE)    │ 1.19182  │\n",
      "├───────────────────────────────────┼──────────┤\n",
      "│ Coefficient of Determination (R²) │ 0.828198 │\n",
      "╘═══════════════════════════════════╧══════════╛\n",
      "Accuracy score:  82.81975539018896 %\n"
     ]
    }
   ],
   "source": [
    "####### MEASURES ######\n",
    "\n",
    "from tabulate import tabulate\n",
    "from sklearn.metrics import mean_absolute_error, mean_squared_error, r2_score\n",
    "\n",
    "# Calculate regression metrics\n",
    "mae = mean_absolute_error(y_test, y_pred)\n",
    "mse = mean_squared_error(y_test, y_pred)\n",
    "rmse = np.sqrt(mse)\n",
    "r2 = r2_score(y_test, y_pred)\n",
    "\n",
    "# Create a table\n",
    "table = [[\"Mean Absolute Error (MAE)\", mae],\n",
    "         [\"Mean Squared Error (MSE)\", mse],\n",
    "         [\"Root Mean Squared Error (RMSE)\", rmse],\n",
    "         [\"Coefficient of Determination (R²)\", r2]]\n",
    "\n",
    "# Print the table\n",
    "print(tabulate(table, headers=[\"Metric\", \"Value\"], tablefmt=\"fancy_grid\"))\n",
    "\n",
    "\n",
    "print(f\"Accuracy score: \",r2*100, \"%\")"
   ]
  }
 ],
 "metadata": {
  "kernelspec": {
   "display_name": "base",
   "language": "python",
   "name": "python3"
  },
  "language_info": {
   "codemirror_mode": {
    "name": "ipython",
    "version": 3
   },
   "file_extension": ".py",
   "mimetype": "text/x-python",
   "name": "python",
   "nbconvert_exporter": "python",
   "pygments_lexer": "ipython3",
   "version": "3.10.9"
  }
 },
 "nbformat": 4,
 "nbformat_minor": 2
}
